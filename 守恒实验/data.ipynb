{
 "cells": [
  {
   "cell_type": "code",
   "execution_count": 1,
   "metadata": {},
   "outputs": [],
   "source": [
    "import pandas as pd\n",
    "import numpy as np\n",
    "\n",
    "data = pd.read_excel('守恒数据_汇总.xlsx', sheet_name='Sheet1')"
   ]
  },
  {
   "cell_type": "code",
   "execution_count": 2,
   "metadata": {},
   "outputs": [],
   "source": [
    "# grouped = data.groupby(['TASK', 'SUBJIECT'])[['JUDGE_VALUE', 'REASON_VALUE']].sum()\n",
    "# grouped['SCORE'] = grouped['JUDGE_VALUE'] + grouped['REASON_VALUE']\n",
    "# grouped.reset_index().pivot_table(index='SUBJIECT',columns='TASK', values = 'SCORE').to_excel('task.xlsx')\n",
    "# grouped = data.groupby(['GRADE', 'SUBJIECT'])[['JUDGE_VALUE', 'REASON_VALUE']].sum()\n",
    "# grouped['SCORE'] = grouped['JUDGE_VALUE'] + grouped['REASON_VALUE']\n",
    "# grouped.reset_index().to_excel('grade.xlsx',index=False)\n",
    "# grouped = data.groupby(['GENDER', 'SUBJIECT'])[['JUDGE_VALUE', 'REASON_VALUE']].sum()\n",
    "# grouped['SCORE'] = grouped['JUDGE_VALUE'] + grouped['REASON_VALUE']\n",
    "# grouped.reset_index().to_excel('gender.xlsx',index=False)\n",
    "grouped = data.groupby(['GENDER','TASK','SUBJIECT'])[['JUDGE_VALUE', 'REASON_VALUE']].sum()\n",
    "grouped['SCORE'] = grouped['JUDGE_VALUE'] + grouped['REASON_VALUE']\n",
    "grouped.reset_index().pivot_table(index=['GENDER', 'SUBJIECT'],columns='TASK', values = 'SCORE').reset_index().to_excel('gender_task.xlsx', index=False)\n"
   ]
  },
  {
   "cell_type": "code",
   "execution_count": 6,
   "metadata": {},
   "outputs": [
    {
     "name": "stdout",
     "output_type": "stream",
     "text": [
      "Chi-squared test statistic: 36.12142232946394\n",
      "p-value: 2.6108068601785803e-06\n",
      "Degrees of freedom: 6\n",
      "Expected frequencies table: [[ 7.33333333 90.66666667 13.66666667  8.33333333]\n",
      " [ 7.33333333 90.66666667 13.66666667  8.33333333]\n",
      " [ 7.33333333 90.66666667 13.66666667  8.33333333]]\n"
     ]
    }
   ],
   "source": [
    "import scipy.stats as stats\n",
    "\n",
    "data = [[12, 95, 6, 7],\n",
    "        [8, 100, 9, 3],\n",
    "        [2, 77, 26, 15]]\n",
    "\n",
    "chi2, p, dof, expect = stats.chi2_contingency(data)\n",
    "print(\"Chi-squared test statistic:\", chi2)\n",
    "print(\"p-value:\", p)\n",
    "print(\"Degrees of freedom:\", dof)\n",
    "print(\"Expected frequencies table:\", expect)"
   ]
  },
  {
   "cell_type": "code",
   "execution_count": 4,
   "metadata": {},
   "outputs": [],
   "source": [
    "grade = data.groupby(['GRADE'])['TYPE'].value_counts().reset_index()\n",
    "grade.to_excel('grade_type.xlsx', index=False)"
   ]
  },
  {
   "cell_type": "code",
   "execution_count": 10,
   "metadata": {},
   "outputs": [
    {
     "data": {
      "text/plain": [
       "REASON_VALUE\n",
       "0    19\n",
       "2     3\n",
       "1     3\n",
       "4     2\n",
       "5     1\n",
       "6     1\n",
       "3     1\n",
       "Name: count, dtype: int64"
      ]
     },
     "execution_count": 10,
     "metadata": {},
     "output_type": "execute_result"
    }
   ],
   "source": [
    "grade[grade['GENDER'] == 'F']['REASON_VALUE'].value_counts()"
   ]
  },
  {
   "cell_type": "code",
   "execution_count": 52,
   "metadata": {},
   "outputs": [
    {
     "name": "stdout",
     "output_type": "stream",
     "text": [
      "Chi-squared test statistic: 11.542105263157895\n",
      "p-value: 0.021101818191112797\n",
      "Degrees of freedom: 4\n",
      "Expected values: [[ 0.66666667  6.66666667 12.66666667]\n",
      " [ 0.66666667  6.66666667 12.66666667]\n",
      " [ 0.66666667  6.66666667 12.66666667]]\n"
     ]
    }
   ],
   "source": [
    "grade_shouheng = [[1, 3, 16],  # 男性的观察频数\n",
    "        [0, 5, 15],\n",
    "        [1, 12, 7]]  # 女性的观察频数\n",
    "# 执行卡方独立性检验\n",
    "chi2, p, dof, expected = stats.chi2_contingency(grade_shouheng)\n",
    "print(\"Chi-squared test statistic:\", chi2)\n",
    "print(\"p-value:\", p)\n",
    "print(\"Degrees of freedom:\", dof)\n",
    "print(\"Expected values:\", expected)"
   ]
  },
  {
   "cell_type": "code",
   "execution_count": null,
   "metadata": {},
   "outputs": [],
   "source": [
    "# 根据A和B列进行分组，统计A和B所有条件下JUDGE_VALUE列和REASON_VALUE列所有单元格的和的和\n",
    "exp = data.groupby(['TASK', 'SUBJIECT'])['REASON_VALUE'].sum().reset_index()\n",
    "\n",
    "\n"
   ]
  }
 ],
 "metadata": {
  "kernelspec": {
   "display_name": "Python 3",
   "language": "python",
   "name": "python3"
  },
  "language_info": {
   "codemirror_mode": {
    "name": "ipython",
    "version": 3
   },
   "file_extension": ".py",
   "mimetype": "text/x-python",
   "name": "python",
   "nbconvert_exporter": "python",
   "pygments_lexer": "ipython3",
   "version": "3.8.0"
  }
 },
 "nbformat": 4,
 "nbformat_minor": 2
}
